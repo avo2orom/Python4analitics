{
  "nbformat": 4,
  "nbformat_minor": 0,
  "metadata": {
    "colab": {
      "provenance": [],
      "authorship_tag": "ABX9TyObBhtQsnI4bPJ4Ifc3cqBh"
    },
    "kernelspec": {
      "name": "python3",
      "display_name": "Python 3"
    },
    "language_info": {
      "name": "python"
    }
  },
  "cells": [
    {
      "cell_type": "markdown",
      "source": [
        "## Условие 1:\n",
        "Оформляйте ноутбук, используя эти советы:\n",
        "## Номер задачи - заголовок 2\n",
        "### Номер подзадачи - заголовок 3\n",
        "Предоставленные наборы данных оформляйте, как код\n"
      ],
      "metadata": {
        "id": "CrWdrbIFPOLx"
      }
    },
    {
      "cell_type": "markdown",
      "source": [
        "## Условие 2:\n",
        "На складе лежат разные фрукты в разном количестве.\\\n",
        "Нужно написать функцию, которая на вход принимает любое количество названий фруктов и их количество, а возвращает общее количество фруктов на складе"
      ],
      "metadata": {
        "id": "I1k-7CnmPlZn"
      }
    },
    {
      "cell_type": "code",
      "source": [
        "def total_fruits(**kwargs):\n",
        "  for values in kwargs.items():\n",
        "    return print(f'Общее количество фрутов: {sum(kwargs.values())}')"
      ],
      "metadata": {
        "id": "IltvV_4fRKFe"
      },
      "execution_count": 40,
      "outputs": []
    },
    {
      "cell_type": "code",
      "source": [
        "total_fruits(\n",
        "    apples = 20,\n",
        "    bananas = 15,\n",
        "    pineapples = 2\n",
        ")"
      ],
      "metadata": {
        "colab": {
          "base_uri": "https://localhost:8080/"
        },
        "id": "wUTsam5BYBFR",
        "outputId": "bc31936e-e5ac-4cfe-a319-2db134eb254f"
      },
      "execution_count": 41,
      "outputs": [
        {
          "output_type": "stream",
          "name": "stdout",
          "text": [
            "Общее количество фрутов: 37\n"
          ]
        }
      ]
    },
    {
      "cell_type": "code",
      "source": [],
      "metadata": {
        "id": "XzJrx2YAgKnp"
      },
      "execution_count": null,
      "outputs": []
    },
    {
      "cell_type": "markdown",
      "source": [
        "## Условие 3:\n",
        "Дан список с затратами на рекламу. Но в данных есть ошибки, некоторые затраты имеют отрицательную величину. Удалите такие значения из списка и посчитайте суммарные затраты\n",
        "\n",
        "Используйте list comprehensions"
      ],
      "metadata": {
        "id": "K1epOVqQPgXU"
      }
    },
    {
      "cell_type": "code",
      "source": [
        "total_costs = [100, 125, -90, 345, 655, -1, 0, 200]\n"
      ],
      "metadata": {
        "id": "59-yHPgyP4PK"
      },
      "execution_count": 42,
      "outputs": []
    },
    {
      "cell_type": "code",
      "source": [
        "total_costs = [i for i in total_costs if i > 0 ]\n",
        "print(f'Total costs: {sum(total_costs)}')"
      ],
      "metadata": {
        "colab": {
          "base_uri": "https://localhost:8080/"
        },
        "id": "EVQy3FtTZGQU",
        "outputId": "6221b93b-6152-4a62-aebd-0a74b9c366f4"
      },
      "execution_count": 46,
      "outputs": [
        {
          "output_type": "stream",
          "name": "stdout",
          "text": [
            "Total costs: 1425\n"
          ]
        }
      ]
    },
    {
      "cell_type": "markdown",
      "source": [
        "## Условие 4:\n",
        "Даны два списка:"
      ],
      "metadata": {
        "id": "rmRveRuUQC1d"
      }
    },
    {
      "cell_type": "code",
      "source": [
        "date_of_purchase = ['2021-09-14', '2021-12-15', '2021-09-08', '2021-12-05',\n",
        "                    '2021-10-09', '2021-09-30', '2021-12-22', '2021-11-29', \n",
        "                    '2021-12-24', '2021-11-26', '2021-10-27', '2021-12-18',\n",
        "                    '2021-11-09', '2021-11-23', '2021-09-27', '2021-10-02',\n",
        "                    '2021-12-27', '2021-09-20', '2021-12-13', '2021-11-01', \n",
        "                    '2021-11-09', '2021-12-06', '2021-12-08', '2021-10-09',\n",
        "                    '2021-10-31', '2021-09-30', '2021-11-09', '2021-12-13', \n",
        "                    '2021-10-26', '2021-12-09']"
      ],
      "metadata": {
        "id": "AL0hXM5XQMQZ"
      },
      "execution_count": 126,
      "outputs": []
    },
    {
      "cell_type": "code",
      "source": [
        "purchase_amounts_by_dates = [1270, 8413, 9028, 3703, 5739, 4095, 295, 4944, \n",
        "                             5723, 3701, 4471, 651, 7037, 4274, 6275, 4988,\n",
        "                             6930, 2971, 6592, 2004, 2822, 519, 3406, 2732,\n",
        "                             5015, 2008, 316, 6333, 5700, 2887]"
      ],
      "metadata": {
        "id": "EQgh3nc7QeXx"
      },
      "execution_count": 127,
      "outputs": []
    },
    {
      "cell_type": "markdown",
      "source": [
        "### Условие 4.1 \n",
        "Найдите, какая выручка у компании в ноябре\n",
        "Используйте list comprehensions"
      ],
      "metadata": {
        "id": "wXGu9UelQ2Sz"
      }
    },
    {
      "cell_type": "code",
      "source": [
        "def november(data1: list, data2: list) -> list:\n",
        "    \n",
        "    new_data = []\n",
        "    \n",
        "    for i in range(len(data1)-1):\n",
        "        if '-11-' in data1[i]:\n",
        "            new_data.append(data2[i])\n",
        "            \n",
        "    return new_data"
      ],
      "metadata": {
        "id": "IjYGYXBQkaUE"
      },
      "execution_count": 92,
      "outputs": []
    },
    {
      "cell_type": "code",
      "source": [
        "print(f'Выручка у компании в ноябре: {sum(november(date_of_purchase, purchase_amounts_by_dates))}')"
      ],
      "metadata": {
        "colab": {
          "base_uri": "https://localhost:8080/"
        },
        "id": "JPL8XDvWkgcW",
        "outputId": "841732d1-3f3a-408c-8c36-affff9f4174e"
      },
      "execution_count": 95,
      "outputs": [
        {
          "output_type": "stream",
          "name": "stdout",
          "text": [
            "Выручка у компании в ноябре: 25098\n"
          ]
        }
      ]
    },
    {
      "cell_type": "markdown",
      "source": [
        "### Условие 4.2 \n",
        "Найдите выручку компании в зависимости от месяца\n",
        "Для этого напишите функцию, которая на вход принимает список с датами и список с выручкой, а на выходе словарь, где ключи - это месяцы, а значения - это выручка.\n",
        "Используйте аннотирование типов."
      ],
      "metadata": {
        "id": "VOiqU76kRAkq"
      }
    },
    {
      "cell_type": "code",
      "source": [
        "def purchase_amounts_by_month(data1: list, data2: list) -> dict:\n",
        "    \n",
        "    profits = {}\n",
        "    \n",
        "    for i in range(len(data1)):\n",
        "        \n",
        "        if data1[i].split('-')[1] in profits.keys():\n",
        "            profits[data1[i].split('-')[1]] += data2[i]\n",
        "        else:\n",
        "            profits[data1[i].split('-')[1]] = data2[i]\n",
        "            \n",
        "    return profits"
      ],
      "metadata": {
        "id": "-moJqpiHoC1N"
      },
      "execution_count": 132,
      "outputs": []
    },
    {
      "cell_type": "code",
      "source": [
        " print(purchase_amounts_by_month(date_of_purchase, purchase_amounts_by_dates))"
      ],
      "metadata": {
        "colab": {
          "base_uri": "https://localhost:8080/"
        },
        "id": "czDJ-wh1rsZp",
        "outputId": "deb94dcc-08ff-4e99-cb78-501119c4a2cc"
      },
      "execution_count": 134,
      "outputs": [
        {
          "output_type": "stream",
          "name": "stdout",
          "text": [
            "{'09': 25647, '12': 45452, '10': 28645, '11': 25098}\n"
          ]
        }
      ]
    }
  ]
}