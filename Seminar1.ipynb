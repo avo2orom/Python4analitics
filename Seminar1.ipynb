{
  "nbformat": 4,
  "nbformat_minor": 0,
  "metadata": {
    "colab": {
      "provenance": [],
      "authorship_tag": "ABX9TyNCWUSciV1inIBBCiQVIJoG"
    },
    "kernelspec": {
      "name": "python3",
      "display_name": "Python 3"
    },
    "language_info": {
      "name": "python"
    }
  },
  "cells": [
    {
      "cell_type": "markdown",
      "source": [
        "### Задание 1.\n",
        "\n",
        "1.1 Соедините два словаря в один\n",
        "dict1 = {'One': 1, 'Two': 2, 'Three': 3}\n",
        "dict2 = {'Four': 4, 'Five': 5, 'Six': 6}\n"
      ],
      "metadata": {
        "id": "rUkX6f6U41jO"
      }
    },
    {
      "cell_type": "code",
      "source": [
        "dict1 = {'One': 1, 'Two': 2, 'Three': 3} \n",
        "dict2 = {'Four': 4, 'Five': 5, 'Six': 6}"
      ],
      "metadata": {
        "id": "WZrN19dI54zg"
      },
      "execution_count": null,
      "outputs": []
    },
    {
      "cell_type": "code",
      "source": [
        "dict1.update(dict2)\n",
        "dict1"
      ],
      "metadata": {
        "colab": {
          "base_uri": "https://localhost:8080/"
        },
        "id": "ERQkehrm6Jh2",
        "outputId": "6b168027-99da-4f5f-edee-dec3ad893e89"
      },
      "execution_count": null,
      "outputs": [
        {
          "output_type": "execute_result",
          "data": {
            "text/plain": [
              "{'One': 1, 'Two': 2, 'Three': 3, 'Four': 4, 'Five': 5, 'Six': 6}"
            ]
          },
          "metadata": {},
          "execution_count": 2
        }
      ]
    },
    {
      "cell_type": "markdown",
      "source": [
        "1.2 Напишите функцию, которая на вход принимает два словаря и возвращает один объединенный словарь\n",
        "\n",
        "Используйте аннотирование типов"
      ],
      "metadata": {
        "id": "0uJabhPd6n6X"
      }
    },
    {
      "cell_type": "code",
      "source": [
        "def merge_dicts(dict1: dict, dict2: dict) -> dict:\n",
        "  dict1.update(dict2)\n",
        "  return dict1\n",
        "\n",
        "merge_dicts(dict1, dict2)"
      ],
      "metadata": {
        "colab": {
          "base_uri": "https://localhost:8080/"
        },
        "id": "n-PRt5RP6o7J",
        "outputId": "ea586e64-624d-4501-9bda-bc33a66266f7"
      },
      "execution_count": null,
      "outputs": [
        {
          "output_type": "execute_result",
          "data": {
            "text/plain": [
              "{'One': 1, 'Two': 2, 'Three': 3, 'Four': 4, 'Five': 5, 'Six': 6}"
            ]
          },
          "metadata": {},
          "execution_count": 4
        }
      ]
    },
    {
      "cell_type": "markdown",
      "source": [
        "### Задание 2"
      ],
      "metadata": {
        "id": "_5O8RAmTDFqO"
      }
    },
    {
      "cell_type": "markdown",
      "source": [
        "Напишите функцию, которая из двух списков, делает один словарь, где элементы из первого списка - ключи, а элементы из второго списка - значения\n",
        "\n"
      ],
      "metadata": {
        "id": "_iOTqSHdDJW8"
      }
    },
    {
      "cell_type": "code",
      "source": [
        "keys = ['One', 'Two', 'Three']\n",
        "values = [1, 2, 3]"
      ],
      "metadata": {
        "id": "bt8G0pkODcp9"
      },
      "execution_count": null,
      "outputs": []
    },
    {
      "cell_type": "markdown",
      "source": [
        "2.1 Используя цикл for"
      ],
      "metadata": {
        "id": "bxty1lRHDzqA"
      }
    },
    {
      "cell_type": "code",
      "source": [
        "keys = ['One', 'Two', 'Three']\n",
        "values = [1, 2, 3]\n",
        "result = dict()\n",
        "for i in range(len(values)):\n",
        "  result[keys[i]] = values[i]\n",
        "\n",
        "result"
      ],
      "metadata": {
        "colab": {
          "base_uri": "https://localhost:8080/"
        },
        "id": "eIZdA7vVD64P",
        "outputId": "168161ab-d747-4d05-a84a-6624f9dc2df3"
      },
      "execution_count": null,
      "outputs": [
        {
          "output_type": "execute_result",
          "data": {
            "text/plain": [
              "{'One': 1, 'Two': 2, 'Three': 3}"
            ]
          },
          "metadata": {},
          "execution_count": 9
        }
      ]
    },
    {
      "cell_type": "markdown",
      "source": [
        "2.2 Используя dict comprehensions"
      ],
      "metadata": {
        "id": "tG2GVJ0DD4ac"
      }
    },
    {
      "cell_type": "code",
      "source": [
        "def get_dict(keys: list, values: list) -> dict:\n",
        "  return {keys[i]: values[i] for i in range(len(values))}\n",
        "\n",
        "get_dict(keys, values)"
      ],
      "metadata": {
        "colab": {
          "base_uri": "https://localhost:8080/"
        },
        "id": "hLxuGjipGDeh",
        "outputId": "fe03207c-a1c3-4d37-b6df-377c620191e5"
      },
      "execution_count": null,
      "outputs": [
        {
          "output_type": "execute_result",
          "data": {
            "text/plain": [
              "{'One': 1, 'Two': 2, 'Three': 3}"
            ]
          },
          "metadata": {},
          "execution_count": 10
        }
      ]
    },
    {
      "cell_type": "markdown",
      "source": [
        "### Задание 3."
      ],
      "metadata": {
        "id": "9vrIvyBmZCwm"
      }
    },
    {
      "cell_type": "markdown",
      "source": [
        "Извлеките только два ключа name и age из представленного словаря\n",
        "\n",
        "client_dict = {\n",
        "\t\"name\": \"John\",\n",
        "\t\"age\": 25,\n",
        "\t\"salary\": 5000,\n",
        "\t\"city\": \"Moscow\"\n",
        "}\n"
      ],
      "metadata": {
        "id": "5OVeAYjMZRLA"
      }
    },
    {
      "cell_type": "markdown",
      "source": [
        "3.1 Напишите функцию с циклом for\\\n",
        "Функция на вход принимает:\\\n",
        "исходный словарь\\\n",
        "ключи, которые нужно извлечь (аргумент по умолчанию)\\\n",
        "На выходе словарь с нужными ключами\\\n",
        "Используйте аннотирование типов\\\n"
      ],
      "metadata": {
        "id": "8I3a_9gBZWm7"
      }
    },
    {
      "cell_type": "code",
      "source": [
        "client_dict = { \"name\": \"John\", \n",
        "               \"age\": 25, \n",
        "               \"salary\": 5000, \n",
        "               \"city\": \"Moscow\" }"
      ],
      "metadata": {
        "id": "17Vh3lZxZoXz"
      },
      "execution_count": null,
      "outputs": []
    },
    {
      "cell_type": "code",
      "source": [
        "def get_keys(dict : dict, keys: list=['name', 'age']) -> dict:\n",
        "  result = {}\n",
        "  for i in keys: \n",
        "    result[i] = dict[i]\n",
        "  return result\n",
        "\n",
        "  \n",
        "get_keys(client_dict, ['name', 'age'])\n"
      ],
      "metadata": {
        "colab": {
          "base_uri": "https://localhost:8080/"
        },
        "id": "-bxVtxw7ZtGB",
        "outputId": "b3627ed8-0526-4842-c1d9-fde14c6fe7fc"
      },
      "execution_count": null,
      "outputs": [
        {
          "output_type": "execute_result",
          "data": {
            "text/plain": [
              "{'name': 'John', 'age': 25}"
            ]
          },
          "metadata": {},
          "execution_count": 3
        }
      ]
    },
    {
      "cell_type": "markdown",
      "source": [
        "3.2 Используя dict comprehensions"
      ],
      "metadata": {
        "id": "qvaPr_OGZiGn"
      }
    },
    {
      "cell_type": "code",
      "source": [
        "keys=['name', 'age']\n",
        "new_dict = {i: client_dict[i] for i in keys}\n",
        "new_dict"
      ],
      "metadata": {
        "colab": {
          "base_uri": "https://localhost:8080/"
        },
        "id": "zRVfuwGP7L_m",
        "outputId": "912e3745-41ab-4f01-a0c9-8e1333eb30e6"
      },
      "execution_count": null,
      "outputs": [
        {
          "output_type": "execute_result",
          "data": {
            "text/plain": [
              "{'name': 'John', 'age': 25}"
            ]
          },
          "metadata": {},
          "execution_count": 5
        }
      ]
    },
    {
      "cell_type": "markdown",
      "source": [
        "### Задание 4"
      ],
      "metadata": {
        "id": "sl0YYfds8PZT"
      }
    },
    {
      "cell_type": "markdown",
      "source": [
        "4.1 Сгенерируйте случайные целые числа от 0 до 100 в количестве 5 штук с помощью модуля random\\\n",
        "Зафиксируйте псевдогенерацию, чтобы сгенерированные значения всегда были одинаковые\\\n",
        "Используйте list comprehensions\n"
      ],
      "metadata": {
        "id": "0cit69WW8S0h"
      }
    },
    {
      "cell_type": "code",
      "source": [
        "import random\n",
        "\n",
        "random.seed(7);\n",
        "array = [random.randint(0,100) for i in range(5)]\n",
        "array"
      ],
      "metadata": {
        "colab": {
          "base_uri": "https://localhost:8080/"
        },
        "id": "pRbvc6qG-nHs",
        "outputId": "74b1865c-6e11-49b4-d2fd-c2ca40cbf158"
      },
      "execution_count": null,
      "outputs": [
        {
          "output_type": "execute_result",
          "data": {
            "text/plain": [
              "[41, 19, 50, 83, 6]"
            ]
          },
          "metadata": {},
          "execution_count": 8
        }
      ]
    },
    {
      "cell_type": "markdown",
      "source": [
        "4.2* Напишите генератор\n",
        "Генератор на вход принимает список с данными о клиенте (данные из пункта 4.1)\\\n",
        "Внутри генератора реализуйте обход по списку с данными\\\n",
        "На каждой итерации генератор будет возвращать кортеж из двух элементов:\\\n",
        "данные по клиенту (в зависимости от итерации, на 0 итерации вернется 0 элемент, на 1 итерации вернется 1 элемент и тд)\\\n",
        "целочисленное значение, которое показывает, сколько секунд прошло с предыдущей итерации\\\n",
        "Примечание: секунды, которые возвращаются должны показывать время не с начала запуска генератора, а именно то время, которое прошло с предыдущей итерации. А значит время на первой итерации должно равняться 0.\\\n",
        "\n",
        "Используйте функцию time из модуля time для подсчета времени.\\\n",
        "Чтобы проверить работу таймера, запустите проход по генератору в цикле с time.sleep(2)\n",
        "\n"
      ],
      "metadata": {
        "id": "Fo6hBdMmCIlR"
      }
    },
    {
      "cell_type": "code",
      "source": [
        "import time\n",
        "\n",
        "\n",
        "data = [random.randint(0,100) for i in range(5)]\n",
        "\n",
        "\n",
        "def elapsed_since(data):\n",
        "  last_time = None\n",
        "\n",
        "  for item in data:\n",
        "    current_time = time.time()\n",
        "\n",
        "    if last_time:\n",
        "      delta = current_time - last_time\n",
        "    else:\n",
        "       delta = current_time - current_time\n",
        "\n",
        "       last_time = time.time()\n",
        "       yield (int(delta), item)\n",
        "\n",
        "for t in elapsed_since(data):\n",
        "  print(t)\n",
        "  time.sleep(2)"
      ],
      "metadata": {
        "colab": {
          "base_uri": "https://localhost:8080/"
        },
        "id": "UzPgbrfqCZAu",
        "outputId": "5f6f1641-95f5-4f99-e4bb-1c4f961d4c00"
      },
      "execution_count": null,
      "outputs": [
        {
          "output_type": "stream",
          "name": "stdout",
          "text": [
            "(0, 55)\n"
          ]
        }
      ]
    },
    {
      "cell_type": "markdown",
      "source": [
        "### Задание 6.\n"
      ],
      "metadata": {
        "id": "3uR7OWeGFu_j"
      }
    },
    {
      "cell_type": "markdown",
      "source": [
        "Напишите функцию, которая может принимать любое количество трат пользователя и считать сумму и среднее.\\\n",
        "На вход поступают целочисленные значения в любом количестве\\\n",
        "На выходе словарь с ключами суммы трат и средней траты\n"
      ],
      "metadata": {
        "id": "8l4WsJH9FyQf"
      }
    },
    {
      "cell_type": "code",
      "source": [
        "def products(*args):\n",
        "  return{\"Общая сумма продуктов\": sum(args), \"Cреднее значение\": sum(args) / len(args)}\n",
        "\n",
        "products(100, 300, 40, 50)"
      ],
      "metadata": {
        "colab": {
          "base_uri": "https://localhost:8080/"
        },
        "id": "9BO_WLujF6gp",
        "outputId": "39eca024-a55b-4ba2-ca0b-79fa083a76c0"
      },
      "execution_count": null,
      "outputs": [
        {
          "output_type": "execute_result",
          "data": {
            "text/plain": [
              "{'Общая сумма продуктов': 490, 'Cреднее значение': 122.5}"
            ]
          },
          "metadata": {},
          "execution_count": 12
        }
      ]
    }
  ]
}